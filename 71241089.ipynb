{
  "nbformat": 4,
  "nbformat_minor": 0,
  "metadata": {
    "colab": {
      "provenance": []
    },
    "kernelspec": {
      "name": "python3",
      "display_name": "Python 3"
    },
    "language_info": {
      "name": "python"
    }
  },
  "cells": [
    {
      "cell_type": "code",
      "execution_count": 2,
      "metadata": {
        "colab": {
          "base_uri": "https://localhost:8080/"
        },
        "id": "gA1ZMEHtYaj0",
        "outputId": "b37edbf1-b63d-419c-9c98-e3bc0a155b45"
      },
      "outputs": [
        {
          "output_type": "stream",
          "name": "stdout",
          "text": [
            "masukan angka= 12\n",
            "11\n"
          ]
        }
      ],
      "source": [
        "def bilangan_prima(n):\n",
        "    cekPrima = 0\n",
        "    for i in range(1,n+1):\n",
        "        if n % i == 0:\n",
        "            cekPrima += 1\n",
        "    return cekPrima\n",
        "\n",
        "n = int(input(\"masukan angka= \"))\n",
        "for i in range(n-1, 0, -1):\n",
        "    if bilangan_prima(i) == 2:\n",
        "        print(i)\n",
        "        break"
      ]
    },
    {
      "cell_type": "code",
      "source": [
        "n = int(input(\"masukan angka: \"))\n",
        "\n",
        "for i in range(n, 0, -1):\n",
        "    deret = 1\n",
        "    for j in range(1, i + 1):\n",
        "        deret *= j\n",
        "\n",
        "    print(deret, end=\" \")\n",
        "    for j in range(i, 0, -1):\n",
        "        print(j, end=\" \")\n",
        "\n",
        "    print()"
      ],
      "metadata": {
        "colab": {
          "base_uri": "https://localhost:8080/"
        },
        "id": "6v6_p8TjZxAY",
        "outputId": "dd92cb95-20e7-496e-a8b5-66c5147eef9c"
      },
      "execution_count": 3,
      "outputs": [
        {
          "output_type": "stream",
          "name": "stdout",
          "text": [
            "masukan angka: 6\n",
            "720 6 5 4 3 2 1 \n",
            "120 5 4 3 2 1 \n",
            "24 4 3 2 1 \n",
            "6 3 2 1 \n",
            "2 2 1 \n",
            "1 1 \n"
          ]
        }
      ]
    },
    {
      "cell_type": "code",
      "source": [
        "tinggi = int(input(\"masukan tinggi: \"))\n",
        "lebar = int(input(\"masukan lebar: \"))\n",
        "jumlah = 1\n",
        "for i in range(tinggi):\n",
        "    for j in range(lebar):\n",
        "        print(jumlah, end=\" \")\n",
        "        jumlah += 1\n",
        "    print()"
      ],
      "metadata": {
        "colab": {
          "base_uri": "https://localhost:8080/"
        },
        "id": "dcr-nxyRbXjs",
        "outputId": "730768f3-ac08-49c1-ac9e-6de88af30c2a"
      },
      "execution_count": 4,
      "outputs": [
        {
          "output_type": "stream",
          "name": "stdout",
          "text": [
            "masukan tinggi: 6\n",
            "masukan lebar: 5\n",
            "1 2 3 4 5 \n",
            "6 7 8 9 10 \n",
            "11 12 13 14 15 \n",
            "16 17 18 19 20 \n",
            "21 22 23 24 25 \n",
            "26 27 28 29 30 \n"
          ]
        }
      ]
    }
  ]
}